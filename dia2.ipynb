{
 "cells": [
  {
   "cell_type": "markdown",
   "id": "a75bf69e",
   "metadata": {},
   "source": [
    "# Clase y explicacion"
   ]
  },
  {
   "cell_type": "code",
   "execution_count": 25,
   "id": "6ef7a999",
   "metadata": {},
   "outputs": [],
   "source": [
    "def saludo_bienvenida(nombre):\n",
    "    print(f\"Buen dia {nombre}\")\n",
    "\n",
    "# saludo_bienvenida()"
   ]
  },
  {
   "cell_type": "markdown",
   "id": "8ddf16db",
   "metadata": {},
   "source": [
    "Condicionales\n",
    "\n",
    "Operadores de comparacion\n",
    "* mayor  >\n",
    "* menor  <\n",
    "* mayor o igual  >=\n",
    "* menor o igual  <=\n",
    "* es igual  ==\n",
    "* diferente  !=\n",
    "\n",
    "Palabras claves\n",
    "- if (si)\n",
    "- elif (sino si)\n",
    "- else (sino)"
   ]
  },
  {
   "cell_type": "code",
   "execution_count": 26,
   "id": "fc687426",
   "metadata": {},
   "outputs": [],
   "source": [
    "edad = 18\n",
    "#  if edad < 18: _____ los dos puntos : es para pedir a python que haga"
   ]
  },
  {
   "cell_type": "markdown",
   "id": "06cdcb3e",
   "metadata": {},
   "source": [
    "- if (se puede utilizar solo al principio)\n",
    "- elif (las veces que necesite)\n",
    "- else (para finalizar)"
   ]
  },
  {
   "cell_type": "markdown",
   "id": "e44b5322",
   "metadata": {},
   "source": [
    "# Challenge 1🤺 - 20m\n",
    "Escribe un programa que pregunte al usuario por su edad y determine si tiene edad suficiente para comprar y consumir alcohol.\n",
    "- Si el usuario tiene mas de 18 pero menos de 21 impirmir \"Podes tomar pero no comprar\"\n",
    "- Si el usuario tiene menos de 18 imprimir \"Juguito nomas\"\n",
    "- Si el usuario tiene mas de 21 imprimir \"Hace lo que quieras\""
   ]
  },
  {
   "cell_type": "code",
   "execution_count": 24,
   "id": "4c46a200",
   "metadata": {},
   "outputs": [
    {
     "name": "stdout",
     "output_type": "stream",
     "text": [
      "Podes tomar pero no comprar\n"
     ]
    }
   ],
   "source": [
    "usuario = int(input(f\"INGRESE SU EDAD\"))\n",
    "\n",
    "if usuario < 18:\n",
    "    print(\"Juguito nomas\")\n",
    "elif usuario > 21:\n",
    "    print(\"Hace lo que quieras\")\n",
    "else:\n",
    "    print(\"Podes tomar pero no comprar\")"
   ]
  },
  {
   "cell_type": "markdown",
   "id": "cffb5824",
   "metadata": {},
   "source": [
    "# Siguiente explicacion"
   ]
  },
  {
   "cell_type": "markdown",
   "id": "a676545d",
   "metadata": {},
   "source": [
    "Operadores logicos\n",
    "- and (y) \n",
    "- or (o)\n",
    "- not (no)"
   ]
  },
  {
   "cell_type": "code",
   "execution_count": null,
   "id": "e1dc425c",
   "metadata": {},
   "outputs": [],
   "source": [
    "# para que la condicion se cumpla, ambas condiciones deben cumplirse, en caso contrario, si la primera condicion no se cumple\n",
    "# directamente la segunda condicion ya no se analiza debido a que la primera ya es \"falsa\""
   ]
  },
  {
   "cell_type": "markdown",
   "id": "7e4d1c48",
   "metadata": {},
   "source": [
    "# Challenge 2🤺 - 30m\n",
    "Escribir un programa en el que se pregunte al usuario por una temperatura (en grados Celsius), imprima la temperatura escrita, y luego clasificar la temperatura ingresada en los siguientes niveles:\n",
    "\n",
    "Entre -10 y 18 grados, que imprima \"Fresquete\".\n",
    "Entre 19 y 30 grados, que imprima \"Calor'i\".\n",
    "Entre 31 y 45 grados, que imprima \"Hakuuuuuu\".\n",
    "Para todo lo demás, imprimir \"Ñamano mba'e!\"."
   ]
  },
  {
   "cell_type": "code",
   "execution_count": null,
   "id": "a0520ab7",
   "metadata": {},
   "outputs": [
    {
     "name": "stdout",
     "output_type": "stream",
     "text": [
      "La temperatura actual es: 23° Celsius\n",
      "Calor'i\n"
     ]
    }
   ],
   "source": [
    "# Se le pregunta algo al usuario, que cosa? - la temperatura en grados Celsius  |   Punto1\n",
    "# Debe imprimir la temperatura escrita  |   Punto2\n",
    "# Clasificar la temperatura, en que? - en niveles   |   Punto3\n",
    "\n",
    "# -10 a 18 es Fresquete\n",
    "# 19 a 30 es Calor'i\n",
    "# 31 a 45 es Hakuuuuuu\n",
    "# El resto es Ñamano mba'e!\n",
    "\n",
    "# Metodo 1 - sin aplicar funcion\n",
    "\n",
    "#Temperatura = int(input(\"Cuantos grados Celsius hace ahora?\"))\n",
    "\n",
    "#print(Temperatura)\n",
    "\n",
    "#if Temperatura >= -10 and Temperatura <= 18:\n",
    "#    print(\"Fresquete\")\n",
    "#elif Temperatura >= 19 and Temperatura <= 30:\n",
    "#    print(\"Calor'i\")\n",
    "#elif Temperatura >= 31 and Temperatura <= 45:\n",
    "#    print(\"Hakuuuuuu\")\n",
    "#else:\n",
    "#    print(\"Ñamano mba'e!\")\n",
    "\n",
    "# Metodo 2 - aplicando funcion\n",
    "\n",
    "Temperatura = int(input(\"Cual es la temperatura?\")) # Punto1\n",
    "\n",
    "print(f\"La temperatura actual es: {Temperatura}° Celsius\")  # Punto2\n",
    "\n",
    "def Temperatura_actual(Temperatura):                #Punto3\n",
    "    if Temperatura >= -10 and Temperatura <= 18:\n",
    "        print(\"Fresquete\")    \n",
    "    elif Temperatura >= 19 and Temperatura <= 30:\n",
    "        print(\"Calor'i\")    \n",
    "    elif Temperatura >= 31 and Temperatura <= 45:\n",
    "        print(\"Hakuuuuuu\")\n",
    "    else:\n",
    "        print(\"Ñamano mba'e!\")\n",
    "\n",
    "Temperatura_actual(Temperatura)"
   ]
  },
  {
   "cell_type": "markdown",
   "id": "2f2c4220",
   "metadata": {},
   "source": [
    "# Siguiente explicacion"
   ]
  },
  {
   "cell_type": "markdown",
   "id": "6083e7c2",
   "metadata": {},
   "source": [
    "## Bucle Condicional\n",
    "WHILE (es una funcion)\n",
    "- while nos permite ejecutar una serie de instrucciones mientras una condicion se cumpla. Al momento que la condicion deje de ser cierta, el bucle para"
   ]
  },
  {
   "cell_type": "code",
   "execution_count": 23,
   "id": "a1a56890",
   "metadata": {},
   "outputs": [
    {
     "name": "stdout",
     "output_type": "stream",
     "text": [
      "Tu numero es: 3\n",
      "Tu numero es: 2\n",
      "Tu numero es: 2\n",
      "Tu numero es: 10\n"
     ]
    }
   ],
   "source": [
    "numero_a_adivinar = 10\n",
    "numero = str()\n",
    "\n",
    "while numero != numero_a_adivinar:      \n",
    "    numero = int(input(\"Introduce un numero\"))\n",
    "    print(f\"Tu numero es: {numero}\")\n",
    "    "
   ]
  },
  {
   "cell_type": "code",
   "execution_count": 5,
   "id": "f7e03f11",
   "metadata": {},
   "outputs": [
    {
     "name": "stdout",
     "output_type": "stream",
     "text": [
      "Numero incorrecto\n",
      "El numero es correcto\n"
     ]
    }
   ],
   "source": [
    "numero = 10\n",
    "\n",
    "while True:\n",
    "    numero_ingresado = int(input(\"Introduce un numero\"))\n",
    "    if numero_ingresado == numero:\n",
    "        print(\"El numero es correcto\")\n",
    "        break\n",
    "    else:\n",
    "        print(\"Numero incorrecto\")"
   ]
  },
  {
   "cell_type": "markdown",
   "id": "23c05578",
   "metadata": {},
   "source": [
    "# Challenge 3🤺 - 20m\n",
    "Escribir un programa que almacene una contraseña en una variable, y pregunte al usuario por la contraseña hasta que introduzca la contraseña correcta.\n",
    "\n",
    "Cuando el usuario ingrese la contrasena correcta, imprimir un mensaje secreto."
   ]
  },
  {
   "cell_type": "code",
   "execution_count": null,
   "id": "5f5c9947",
   "metadata": {},
   "outputs": [],
   "source": [
    "Pass = \"Trambolico\"\n",
    "\n",
    "while True:\n",
    "    Contraseña = str(input(\"Introduzca su contraseña\"))\n",
    "    if Contraseña == Pass:\n",
    "        print(\"Su contraseña es correcta\")\n",
    "        break\n",
    "    else:\n",
    "        print(\"Contraseña incorrecta\")"
   ]
  },
  {
   "cell_type": "code",
   "execution_count": null,
   "id": "73c3a008",
   "metadata": {},
   "outputs": [
    {
     "name": "stdout",
     "output_type": "stream",
     "text": [
      "Contraseña incorrecta\n",
      "Contraseña incorrecta\n",
      "Contraseña correcta\n"
     ]
    }
   ],
   "source": [
    "Contraseña = 123\n",
    "Contra = int()\n",
    "\n",
    "while Contra != Contraseña:\n",
    "    Contra = int(input(\"Introduzca su contraseña\"))\n",
    "    print(\"Contraseña incorrecta\")\n",
    "else:\n",
    "    print(\"Contraseña correcta\")"
   ]
  },
  {
   "cell_type": "markdown",
   "id": "d7c107f2",
   "metadata": {},
   "source": [
    "# Siguiente explicacion"
   ]
  },
  {
   "cell_type": "markdown",
   "id": "3f3bf59a",
   "metadata": {},
   "source": [
    "## Lista\n",
    "\n",
    "Una lista es una agrupacion de objetos, que pueden ser de distintos tipos de datos. La construimos colocando los elementos entre corchetes [ ] y separados por comas.\n",
    "\n",
    "Indice y posicion son cosas distintas\n",
    "\n",
    "Indice empieza por 0\n",
    "Posicion empieza por 1\n",
    "\n",
    "- Aprender los comandos para modificar los valores de las listas. Ejemplo: append, remove, pop, []\n",
    "- [ ] ; para ingresar a la lista\n",
    "- append ; para añadir un elemento a la lista (lo añade al final de la lista)\n",
    "- remove ; para eliminar el valor especifico de la lista\n",
    "- pop ; para eliminar el elemento por la posicion del indice en el que se encuentra el dato"
   ]
  },
  {
   "cell_type": "markdown",
   "id": "13a19fea",
   "metadata": {},
   "source": [
    "# Challenge 4🤺 - 20m\n",
    "Crear una lista de 5 elementos. Luego, seguir los siguientes pasos.\n",
    "\n",
    "Agregar un elemento al final de la lista.\n",
    "\n",
    "Modificar el segundo elemento.\n",
    "\n",
    "Eliminar el tercer elemento."
   ]
  },
  {
   "cell_type": "code",
   "execution_count": 43,
   "id": "fc65f78b",
   "metadata": {},
   "outputs": [
    {
     "name": "stdout",
     "output_type": "stream",
     "text": [
      "['rojo', 'blanco', 'azul', 'negro', 'verde', 'amarillo']\n",
      "['rojo', 'naranja', 'azul', 'negro', 'verde', 'amarillo']\n",
      "['rojo', 'naranja', 'negro', 'verde', 'amarillo']\n",
      "['naranja', 'negro', 'verde', 'amarillo']\n"
     ]
    }
   ],
   "source": [
    "lista = [\"rojo\",\"blanco\",\"azul\",\"negro\",\"verde\"]\n",
    "\n",
    "lista.append(\"amarillo\")\n",
    "print(lista)\n",
    "\n",
    "lista[1] = \"naranja\"        \n",
    "print(lista)\n",
    "\n",
    "lista.pop(2)    #otra manera seria utilizar     lista.remove(\" \") --> en este caso eliminamos el valor especifico de la lista\n",
    "print(lista)\n",
    "\n",
    "lista.remove(\"rojo\")\n",
    "print(lista)"
   ]
  },
  {
   "cell_type": "markdown",
   "id": "7b8a2372",
   "metadata": {},
   "source": [
    "# Siguiente explicacion"
   ]
  },
  {
   "cell_type": "markdown",
   "id": "4329ba35",
   "metadata": {},
   "source": [
    "## Bucle Interativo\n",
    "\n",
    "iterador = i = una variable = debe ser descriptivo\n",
    "\n",
    "len( ) (abreviatura de \"length\", que significa \"longitud\" en inglés) es una función comúnmente usada para obtener el tamaño o número de elementos de un objeto iterable, como una cadena (string), lista, tupla, diccionario, etc."
   ]
  },
  {
   "cell_type": "code",
   "execution_count": 53,
   "id": "6afbfa23",
   "metadata": {},
   "outputs": [
    {
     "name": "stdout",
     "output_type": "stream",
     "text": [
      "1\n",
      "2\n",
      "3\n",
      "4\n",
      "5\n",
      "6\n",
      "7\n"
     ]
    }
   ],
   "source": [
    "dias_de_la_semana = [1,2,3,4,5,6,7]\n",
    "\n",
    "for i in dias_de_la_semana:\n",
    "    print(i)\n",
    "\n",
    "# tambien se puede reemplazar < i > por otra variable, por ejemplo < dia >, lo que dejaria\n",
    "# el codigo de la siguiente manera:\n",
    "\n",
    "#dias_de_la_semana = [1,2,3,4,5,6,7]\n",
    "#for dia in dias_de_la_semana:\n",
    "#    print(dia)"
   ]
  },
  {
   "cell_type": "markdown",
   "id": "a1c01bea",
   "metadata": {},
   "source": [
    "- se puede recorrer numeros y elementos de una lista\n",
    "- la iteracion recorre por elemento en una lista"
   ]
  },
  {
   "cell_type": "markdown",
   "id": "9860c88d",
   "metadata": {},
   "source": [
    "# Challenge 5🤺 - 20m\n",
    "Escribir un programa que itere en un rango de 10 veces. Por cada iteracion multiplicar el iterador por dos e imprimir el resultado."
   ]
  },
  {
   "cell_type": "code",
   "execution_count": 41,
   "id": "abeb541c",
   "metadata": {},
   "outputs": [
    {
     "name": "stdout",
     "output_type": "stream",
     "text": [
      "Metodo 1 - Multiplicando el iterador Lista por 2, dandole valores especificos\n",
      "\n",
      "El resultado es 2\n",
      "El resultado es 4\n",
      "El resultado es 6\n",
      "El resultado es 8\n",
      "El resultado es 10\n",
      "El resultado es 12\n",
      "El resultado es 14\n",
      "El resultado es 16\n",
      "El resultado es 18\n",
      "El resultado es 20\n",
      "\n",
      "Metodo 2 - Multiplicando el iterador por 2, utilizando la clase rango \n",
      "\n",
      "El resultado es 0\n",
      "El resultado es 2\n",
      "El resultado es 4\n",
      "El resultado es 6\n",
      "El resultado es 8\n",
      "El resultado es 10\n",
      "El resultado es 12\n",
      "El resultado es 14\n",
      "El resultado es 16\n",
      "El resultado es 18\n"
     ]
    }
   ],
   "source": [
    "# por cada iteracion multiplicar el iterador por 2\n",
    "\n",
    "print(\"Metodo 1 - Multiplicando el iterador Lista por 2, dandole valores especificos\")\n",
    "print()\n",
    "\n",
    "lista_numerica = [1,2,3,4,5,6,7,8,9,10]\n",
    "\n",
    "for lista in lista_numerica:\n",
    "    print(f\"El resultado es {lista*2}\") #Aqui el resultado va de 2 hasta 20, porque se multiplican directamente \n",
    "#                                        los valores dentro de la lista\n",
    "    \n",
    "print()\n",
    "print(\"Metodo 2 - Multiplicando el iterador por 2, utilizando la clase rango \")\n",
    "print()\n",
    "\n",
    "for lista in range(10):\n",
    "    print(f\"El resultado es {lista*2}\") #Aqui el resultado va de 0 a 18 porque \"range\" cuenta la posicion del \"Indice\""
   ]
  },
  {
   "cell_type": "markdown",
   "id": "82aed087",
   "metadata": {},
   "source": [
    "# Siguiente explicacion"
   ]
  },
  {
   "cell_type": "markdown",
   "id": "9cd6b736",
   "metadata": {},
   "source": [
    "A la clase \"range\" se le puede atribuir un rango entre 2 numeros añadiendo una coma entre estos, pero hay que recordar que este siempre considera la Posicion del Indice. Por ejemplo si imprimimos un rango del 1 al 5, estariamos obteniendo como respuesta 4 valores"
   ]
  },
  {
   "cell_type": "code",
   "execution_count": 42,
   "id": "13a5fc69",
   "metadata": {},
   "outputs": [
    {
     "name": "stdout",
     "output_type": "stream",
     "text": [
      "1\n",
      "2\n",
      "3\n",
      "4\n"
     ]
    }
   ],
   "source": [
    "for numeros in range(1,5):\n",
    "    print(numeros)"
   ]
  },
  {
   "cell_type": "code",
   "execution_count": null,
   "id": "cf7d1234",
   "metadata": {},
   "outputs": [
    {
     "name": "stdout",
     "output_type": "stream",
     "text": [
      "2\n",
      "4\n",
      "6\n",
      "8\n"
     ]
    }
   ],
   "source": [
    "for numeros in range(1,5):\n",
    "    print(numeros*2)"
   ]
  },
  {
   "cell_type": "markdown",
   "id": "d3a58706",
   "metadata": {},
   "source": [
    "# Challenge 6🤺 - 20m\n",
    "Recorrer los elementos de una lista de marcas e imprimir cada marca solamente si tiene 6 letras o más."
   ]
  },
  {
   "cell_type": "code",
   "execution_count": null,
   "id": "c1cbe6e6",
   "metadata": {},
   "outputs": [
    {
     "name": "stdout",
     "output_type": "stream",
     "text": [
      "La marca Toyota posee 6 caracteres\n",
      "La marca Mercedes posee 8 caracteres\n",
      "La marca Porsche posee 7 caracteres\n"
     ]
    }
   ],
   "source": [
    "#Punto1 - Crea una lista de marcas\n",
    "#Punto2 - Recorrer la lista de marcas\n",
    "#Punto3 - Crear una cond si la palabra tiene mas de 6 caract\n",
    "#Punto4 - Imprimir solamente los correctos\n",
    "\n",
    "lista_marcas = [\"Toyota\",\"Kia\",\"Audi\",\"Honda\",\"Mercedes\",\"Porsche\"]     #Punto1\n",
    "for marca_auto in lista_marcas:     #Punto2\n",
    "    if len(marca_auto) >= 6:        #Punto3\n",
    "        print(f\"La marca {marca_auto} posee {len(marca_auto)} caracteres\")  #Punto4"
   ]
  },
  {
   "cell_type": "markdown",
   "id": "02b90842",
   "metadata": {},
   "source": [
    "# Challenge 7🤺 - 15m\n",
    "Solicitar al usuario que ingrese una frase.\n",
    "\n",
    "Imprimir un mensaje cada vez que se encuentre una letra \"o\""
   ]
  },
  {
   "cell_type": "code",
   "execution_count": 54,
   "id": "6b11ffd7",
   "metadata": {},
   "outputs": [
    {
     "name": "stdout",
     "output_type": "stream",
     "text": [
      "Se ha encontrado una O\n",
      "Se ha encontrado una O\n"
     ]
    }
   ],
   "source": [
    "#Punto1 - Hacer que el usuario ingrese una frase\n",
    "#Punto2 - Recorrer la frase\n",
    "#Punto3 - Crear una cond en la que encuentre la O\n",
    "#Punto4 - Imprimir un mensaje\n",
    "\n",
    "Frase = input(\"Ingrese una frase\")\n",
    "for Letra in Frase:\n",
    "    if Letra == \"o\":\n",
    "        print(\"Se ha encontrado una O\")"
   ]
  },
  {
   "cell_type": "markdown",
   "id": "4274159a",
   "metadata": {},
   "source": [
    "Como hacer cuando ya poseo la frase?\n",
    "\n",
    "Frase = \"Da el primer paso hacia tu carrera en tecnologia\"\n",
    "\n",
    "for Mensaje in Frase:"
   ]
  },
  {
   "cell_type": "markdown",
   "id": "df4ac10c",
   "metadata": {},
   "source": [
    "oracion = input(\"escribe una frase:\")\n",
    "contador = 0\n",
    "\n",
    "for letra in oracion:\n",
    "    if letra.lower() == \"o\":\n",
    "        contador += 1\n",
    "\n",
    "print(f\"la letra o aparece {contador} veces\")"
   ]
  },
  {
   "cell_type": "code",
   "execution_count": null,
   "id": "30948f0d",
   "metadata": {},
   "outputs": [
    {
     "name": "stdout",
     "output_type": "stream",
     "text": [
      "la letra o aparece 2 veces\n"
     ]
    }
   ],
   "source": [
    "oracion = input(\"escribe una frase:\")\n",
    "x = 0\n",
    "\n",
    "for letra in oracion:\n",
    "    if letra == \"o\" or letra == \"O\":\n",
    "        contador += 1\n",
    "\n",
    "print(f\"la letra o aparece {contador} veces\")"
   ]
  }
 ],
 "metadata": {
  "kernelspec": {
   "display_name": "Python 3",
   "language": "python",
   "name": "python3"
  },
  "language_info": {
   "codemirror_mode": {
    "name": "ipython",
    "version": 3
   },
   "file_extension": ".py",
   "mimetype": "text/x-python",
   "name": "python",
   "nbconvert_exporter": "python",
   "pygments_lexer": "ipython3",
   "version": "3.13.3"
  }
 },
 "nbformat": 4,
 "nbformat_minor": 5
}
