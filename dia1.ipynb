{
 "cells": [
  {
   "cell_type": "code",
   "execution_count": 58,
   "id": "4187a2b9",
   "metadata": {},
   "outputs": [
    {
     "name": "stdout",
     "output_type": "stream",
     "text": [
      "Hola Mundo\n"
     ]
    }
   ],
   "source": [
    "print(\"Hola Mundo\")"
   ]
  },
  {
   "cell_type": "code",
   "execution_count": 59,
   "id": "71c08d27",
   "metadata": {},
   "outputs": [
    {
     "name": "stdout",
     "output_type": "stream",
     "text": [
      "Marcos\n",
      "Talavera\n"
     ]
    }
   ],
   "source": [
    "nombre = \"Marcos\"\n",
    "apellido = \"Talavera\"\n",
    "\n",
    "print(nombre)\n",
    "print(apellido)"
   ]
  },
  {
   "cell_type": "code",
   "execution_count": 60,
   "id": "bceeb856",
   "metadata": {},
   "outputs": [
    {
     "name": "stdout",
     "output_type": "stream",
     "text": [
      "manzana\n",
      "5\n",
      "naranja\n"
     ]
    }
   ],
   "source": [
    "frutas = \"manzana\"\n",
    "print(frutas)\n",
    "cantidad_de_frutas = \"5\"\n",
    "print(cantidad_de_frutas)\n",
    "frutas = \"naranja\"\n",
    "print(frutas)"
   ]
  },
  {
   "cell_type": "code",
   "execution_count": 61,
   "id": "d647a740",
   "metadata": {},
   "outputs": [
    {
     "name": "stdout",
     "output_type": "stream",
     "text": [
      "('naranja', 'pera')\n",
      "naranja, pera\n"
     ]
    }
   ],
   "source": [
    "frutas = \"naranja\", \"pera\"\n",
    "print(frutas)\n",
    "\n",
    "frutas = \"naranja, pera\"\n",
    "print(frutas)"
   ]
  },
  {
   "cell_type": "markdown",
   "id": "c4d94edf",
   "metadata": {},
   "source": [
    "## Tipo de datos\n",
    "* int - integer - 112\n",
    "* float - floatin - 1.2 (el punto es utilizado como coma) (decimales)\n",
    "* str - string - \"marcos\" 'talavera' (las comillas definen que sea un texto y deben ser siempre iguales las que se usan para abrir y cerrar dicho texto)\n",
    "* bool - boolean - TRUE FALSE"
   ]
  },
  {
   "cell_type": "code",
   "execution_count": 107,
   "id": "f57e7ef8",
   "metadata": {},
   "outputs": [
    {
     "ename": "SyntaxError",
     "evalue": "unterminated string literal (detected at line 3) (1600014101.py, line 3)",
     "output_type": "error",
     "traceback": [
      "  \u001b[36mCell\u001b[39m\u001b[36m \u001b[39m\u001b[32mIn[107]\u001b[39m\u001b[32m, line 3\u001b[39m\n\u001b[31m    \u001b[39m\u001b[31mnombre = \"Marcos'\u001b[39m\n             ^\n\u001b[31mSyntaxError\u001b[39m\u001b[31m:\u001b[39m unterminated string literal (detected at line 3)\n"
     ]
    }
   ],
   "source": [
    "numero = 123123\n",
    "numero_decimal = 1.2\n",
    "nombre = \"Marcos'"
   ]
  },
  {
   "cell_type": "markdown",
   "id": "6cb2250d",
   "metadata": {},
   "source": [
    "# Ejercicios"
   ]
  },
  {
   "cell_type": "code",
   "execution_count": 108,
   "id": "ce64acb1",
   "metadata": {},
   "outputs": [
    {
     "name": "stdout",
     "output_type": "stream",
     "text": [
      "'Marcos'\n",
      "\"Marcos\"\n"
     ]
    }
   ],
   "source": [
    "nombre = \"'Marcos'\"\n",
    "print(nombre)\n",
    "\n",
    "nombre = '\"Marcos\"'\n",
    "print(nombre)"
   ]
  },
  {
   "cell_type": "markdown",
   "id": "bce45a9f",
   "metadata": {},
   "source": [
    "* SUMA +\n",
    "* RESTA -\n",
    "* DIVISION DECIMAL /\n",
    "* MULTIPLICACION *\n",
    "* DIVISION ENTERA //\n"
   ]
  },
  {
   "cell_type": "code",
   "execution_count": 109,
   "id": "922a5433",
   "metadata": {},
   "outputs": [
    {
     "name": "stdout",
     "output_type": "stream",
     "text": [
      "35000\n",
      "30000\n",
      "76000\n",
      "19000\n",
      "5066\n"
     ]
    }
   ],
   "source": [
    "precio_total = 15000 + 20000\n",
    "print(precio_total)\n",
    "\n",
    "precio_descuento = precio_total - 5000\n",
    "print(precio_descuento)\n",
    "\n",
    "precio_gaseosa = 19000\n",
    "cantidad_gaseosa = 4\n",
    "costo_total = precio_gaseosa * cantidad_gaseosa\n",
    "print(costo_total)\n",
    "\n",
    "cantidad_personas = 15\n",
    "promedio_por_persona = costo_total // cantidad_gaseosa\n",
    "print(promedio_por_persona)\n",
    "\n",
    "costo_final = (precio_gaseosa * cantidad_gaseosa) // cantidad_personas\n",
    "print(costo_final)"
   ]
  },
  {
   "cell_type": "markdown",
   "id": "13a8193a",
   "metadata": {},
   "source": [
    "Suma: asignar dos numeros en dos variables diferentes\n",
    "cantidad_de_manzana y cantidad_de_naranjas. Luego sumar ambas variables en cantidad_de_frutas. Imprimir la variable\n",
    "\n",
    "Resta: asignar un valor numerico a la variable frutas_vendidas. Luego asignar la resta entre cantidad_de_frutas y frutas_vendidas a la variable frutas_restantes. Imprimir la ultima variable"
   ]
  },
  {
   "cell_type": "markdown",
   "id": "31fca2bb",
   "metadata": {},
   "source": [
    "# Challenge 1"
   ]
  },
  {
   "cell_type": "code",
   "execution_count": 110,
   "id": "2aeab994",
   "metadata": {},
   "outputs": [
    {
     "name": "stdout",
     "output_type": "stream",
     "text": [
      "26\n"
     ]
    }
   ],
   "source": [
    "# SUMA\n",
    "cantidad_de_manzanas = 10\n",
    "cantidad_de_naranjas = 16\n",
    "cantidad_de_frutas = cantidad_de_manzanas + cantidad_de_naranjas\n",
    "print(cantidad_de_frutas)"
   ]
  },
  {
   "cell_type": "code",
   "execution_count": 111,
   "id": "df73309f",
   "metadata": {},
   "outputs": [
    {
     "name": "stdout",
     "output_type": "stream",
     "text": [
      "16\n"
     ]
    }
   ],
   "source": [
    "# RESTA\n",
    "frutas_vendidas = 13\n",
    "cantidad_de_frutas = 29\n",
    "frutas_restantes = cantidad_de_frutas - frutas_vendidas\n",
    "print(frutas_restantes)"
   ]
  },
  {
   "cell_type": "markdown",
   "id": "e0d7426e",
   "metadata": {},
   "source": [
    "# Clase y explicacion"
   ]
  },
  {
   "cell_type": "code",
   "execution_count": 56,
   "id": "d44cc958",
   "metadata": {},
   "outputs": [
    {
     "name": "stdout",
     "output_type": "stream",
     "text": [
      "MarcosTalavera\n",
      "MarcosTalavera\n",
      "Marcos Talavera\n",
      "Hola, mi nombre es Marcos Talavera\n",
      "Hola, mi nombre es Marcos Talavera\n"
     ]
    }
   ],
   "source": [
    "# Cada letra o caracter constituye un dato\n",
    "nombre = \"Marcos\"\n",
    "apellido = \"Talavera\"\n",
    "\n",
    "nombre_completo = nombre + apellido\n",
    "print(nombre_completo)          #en este se le asigna como variable al nombre completo y la suma se realiza antes del print\n",
    "\n",
    "print(nombre + apellido)        #aqui se realiza la suma de las variables dentro del print\n",
    "\n",
    "print(nombre + \" \" + apellido)  #se realiza la suma pero se le añade un espacio entre las variables\n",
    "\n",
    "print(\"Hola, mi nombre es\" + \" \" + nombre + \" \" + apellido) #se suma un texto a las variables todas por separado dentro del print\n",
    "\n",
    "print(f\"Hola, mi nombre es {nombre} {apellido}\") #se utiliza el format para incluir las variables dentro del texto y hacerlo resumido\n",
    "\n",
    "# En el print de arriba, al aplicar las llaves se puede poner juntos o separados y eso \n",
    "# influye para que se genere o no un espacio entre ellas\n",
    "\n",
    "# f = format\n",
    "# la f cumple la idea de mezclar texto y ponerle variables dentro utilizando el simbolo {}"
   ]
  },
  {
   "cell_type": "markdown",
   "id": "4c9f399d",
   "metadata": {},
   "source": [
    "# Challenge 2"
   ]
  },
  {
   "cell_type": "code",
   "execution_count": 57,
   "id": "72a820aa",
   "metadata": {},
   "outputs": [
    {
     "name": "stdout",
     "output_type": "stream",
     "text": [
      "Hola. Me llamo Efrain Ortiz. Mucho gusto\n"
     ]
    }
   ],
   "source": [
    "nombre = \"Efrain\"\n",
    "apellido = \"Ortiz\"\n",
    "print(f\"Hola. Me llamo {nombre} {apellido}. Mucho gusto\")"
   ]
  },
  {
   "cell_type": "markdown",
   "id": "b7a4e323",
   "metadata": {},
   "source": [
    "# Siguiente explicacion"
   ]
  },
  {
   "cell_type": "code",
   "execution_count": 67,
   "id": "18a2a9ce",
   "metadata": {},
   "outputs": [
    {
     "name": "stdout",
     "output_type": "stream",
     "text": [
      "Marcos Talavera\n",
      "MarcosTalavera\n",
      "MarcosTalavera\n",
      "Marcos Talavera\n"
     ]
    }
   ],
   "source": [
    "print(nombre,apellido)\n",
    "\n",
    "print(nombre+apellido)\n",
    "\n",
    "print(f\"{nombre}{apellido}\")\n",
    "\n",
    "print(f\"{nombre} {apellido}\")"
   ]
  },
  {
   "cell_type": "code",
   "execution_count": null,
   "id": "ff0c3d61",
   "metadata": {},
   "outputs": [
    {
     "name": "stdout",
     "output_type": "stream",
     "text": [
      "Marcos\n"
     ]
    }
   ],
   "source": [
    "nombre = input(\"cual es tu nombre?\") #lo que se ingresa en comillas es lo que uno requiere por parte del usuario\n",
    "print(nombre)\n",
    "\n",
    "#la particularidad del input es que siempre trae como resultado un texto"
   ]
  },
  {
   "cell_type": "code",
   "execution_count": 72,
   "id": "d8ec57ec",
   "metadata": {},
   "outputs": [
    {
     "name": "stdout",
     "output_type": "stream",
     "text": [
      "46\n"
     ]
    }
   ],
   "source": [
    "numero1 = input(\"dame un numero\")\n",
    "numero2 = input(\"dame otro numero\")\n",
    "suma = numero1 + numero2\n",
    "print(suma)\n",
    "\n",
    "#da 46 como resultado porque al pedir los numeros se le asignaron 4 y 6, pero como input trae como resultado un texto\n",
    "#asume que 4 y 6 son textos (str), no numeros (int)"
   ]
  },
  {
   "cell_type": "code",
   "execution_count": null,
   "id": "4fa53f1e",
   "metadata": {},
   "outputs": [
    {
     "name": "stdout",
     "output_type": "stream",
     "text": [
      "10\n"
     ]
    }
   ],
   "source": [
    "numero1 = input(\"dame un numero\")\n",
    "numero2 = input(\"dame otro numero\")\n",
    "suma = int(numero1) + int(numero2)\n",
    "print(suma)\n",
    "\n",
    "#da 10 como resultado porque en la linea numero 3 se indica que las variables \"numero1\" y \"numero2\" son int en vez de str"
   ]
  },
  {
   "cell_type": "markdown",
   "id": "390a06e8",
   "metadata": {},
   "source": [
    "# Challenge 3\n",
    "\n",
    "Solicitar al usuario ingresar dos números y almacenarlos en dos variables. Luego, imprimir la suma de los dos números."
   ]
  },
  {
   "cell_type": "code",
   "execution_count": null,
   "id": "fe5e52f5",
   "metadata": {},
   "outputs": [
    {
     "name": "stdout",
     "output_type": "stream",
     "text": [
      "el primer numero es: 3\n",
      "el primer numero es: 4\n",
      "la suma es: 7\n",
      "el primer numero es: 5\n",
      "el primer numero es: 6\n",
      "la suma es: 11\n"
     ]
    }
   ],
   "source": [
    "#metodo1\n",
    "numero1 = input(\"quiero que me des un numero\") #la variable numero1 esta asignada como SRT\n",
    "numero2 = input(\"quiero que me des otro numero\") #la variable numero1 esta asignada como SRT\n",
    "suma_de_numeros = int(numero1) + int(numero2) #al asignar numero1 y numero2 como INT, automaticamente suma_de_numeros pasa a ser INT\n",
    "print(\"el primer numero es: \" + numero1)\n",
    "print(\"el primer numero es: \" + numero2)\n",
    "print(\"la suma es:\",suma_de_numeros) #se imprime la variable suma_de_numeros como int\n",
    "\n",
    "#metodo2\n",
    "numero3 = int(input(\"dame un numero\"))\n",
    "numero4 = int(input(\"dame otro numero\"))\n",
    "print(f\"el primer numero es: {numero3}\")\n",
    "print(f\"el primer numero es: {numero4}\")\n",
    "print(f\"la suma es: {numero3+numero4}\") #dentro de las llaves se puede realizar la suma porque van variables dentro y al ser ambas INT son validas para ser sumadas"
   ]
  },
  {
   "cell_type": "markdown",
   "id": "ce89a65d",
   "metadata": {},
   "source": [
    "# Siguiente explicacion"
   ]
  },
  {
   "cell_type": "code",
   "execution_count": null,
   "id": "6c1fafec",
   "metadata": {},
   "outputs": [
    {
     "name": "stdout",
     "output_type": "stream",
     "text": [
      "Abrir el pan\n",
      "agregar jamon\n",
      "agregar queso\n",
      "cerrar pan\n",
      "Listo!\n"
     ]
    }
   ],
   "source": [
    "# def  python reconoce para empezar a utilizar una funcion\n",
    "def preparar_sandwich(): #se le asigna un titulo a la funcion, una descripcion\n",
    "    print(\"Abrir el pan\")\n",
    "    print(\"agregar jamon\")\n",
    "    print(\"agregar queso\")\n",
    "    print(\"cerrar pan\")\n",
    "    print(\"Listo!\")\n",
    "\n",
    "preparar_sandwich()"
   ]
  },
  {
   "cell_type": "markdown",
   "id": "6bbe6818",
   "metadata": {},
   "source": [
    "El simbolo =  es un operador de asignacion\n",
    "El simbolo : sirve para definir que luego se debe realizar X operacion"
   ]
  },
  {
   "cell_type": "markdown",
   "id": "0ef8cb2b",
   "metadata": {},
   "source": [
    "# Challenge 4\n",
    "Crear una función de un proceso que se les ocurra que tenga varios pasos.\n",
    "Ejecutar la función 3 veces."
   ]
  },
  {
   "cell_type": "code",
   "execution_count": 112,
   "id": "aa456f98",
   "metadata": {},
   "outputs": [
    {
     "name": "stdout",
     "output_type": "stream",
     "text": [
      "Asegurarse de estar solo\n",
      "Sacar la bolsita con el estupefaciente escogido\n",
      "Apoyarlo sobre una mesa de vidrio preferentemente\n",
      "Enrollar un billete de 2mil Gs para inhalar\n",
      "Proceda a disfrutar de su estupefaciente\n",
      "Quedar paranoico, dormir, levantarse\n",
      "Asegurarse de estar solo\n",
      "Sacar la bolsita con el estupefaciente escogido\n",
      "Apoyarlo sobre una mesa de vidrio preferentemente\n",
      "Enrollar un billete de 2mil Gs para inhalar\n",
      "Proceda a disfrutar de su estupefaciente\n",
      "Quedar paranoico, dormir, levantarse\n",
      "Asegurarse de estar solo\n",
      "Sacar la bolsita con el estupefaciente escogido\n",
      "Apoyarlo sobre una mesa de vidrio preferentemente\n",
      "Enrollar un billete de 2mil Gs para inhalar\n",
      "Proceda a disfrutar de su estupefaciente\n",
      "Quedar paranoico, dormir, levantarse\n"
     ]
    }
   ],
   "source": [
    "def Como_inhalar_merca():\n",
    "    print(\"Asegurarse de estar solo\")\n",
    "    print(\"Sacar la bolsita con el estupefaciente escogido\")\n",
    "    print(\"Apoyarlo sobre una mesa de vidrio preferentemente\")\n",
    "    print(\"Enrollar un billete de 2mil Gs para inhalar\")\n",
    "    print(\"Proceda a disfrutar de su estupefaciente\")\n",
    "    print(\"Quedar paranoico, dormir, levantarse\")\n",
    "\n",
    "Como_inhalar_merca()\n",
    "Como_inhalar_merca()\n",
    "Como_inhalar_merca()"
   ]
  },
  {
   "cell_type": "markdown",
   "id": "fc14800f",
   "metadata": {},
   "source": [
    "# Siguiente explicacion"
   ]
  },
  {
   "cell_type": "markdown",
   "id": "d003d27e",
   "metadata": {},
   "source": [
    "parametros y argumentos\n",
    "parametros(el que esta esperando que se le asigne un valor): valor que va a recibir desde afuera, que sin ese valor no se puede realizar la funcion.\n",
    "el parametro se necesita para que la funcion se ejecute.\n",
    "cuando se ejecuta la funcion es cuando se le denomina argumento (el que le da valor al parametro)"
   ]
  },
  {
   "cell_type": "code",
   "execution_count": 119,
   "id": "3504fd21",
   "metadata": {},
   "outputs": [
    {
     "name": "stdout",
     "output_type": "stream",
     "text": [
      "Abrir el pan\n",
      "agregar huevo\n",
      "cerrar pan\n",
      "Listo!\n",
      "Abrir el pan\n",
      "agregar tomate y lechuga\n",
      "cerrar pan\n",
      "Listo!\n"
     ]
    }
   ],
   "source": [
    "def preparar_sandwich(ingrediente): #dentro del parentesis se coloca el parametro, en este caso es ingrediente\n",
    "    print(\"Abrir el pan\")\n",
    "    print(f\"agregar {ingrediente}\")\n",
    "    print(\"cerrar pan\")\n",
    "    print(\"Listo!\")\n",
    "\n",
    "preparar_sandwich(\"huevo\") #dentro del parentesis se asigna el argumento, el valor que se asigna a cada opcion\n",
    "preparar_sandwich(\"tomate y lechuga\")"
   ]
  },
  {
   "cell_type": "markdown",
   "id": "2d64ba7c",
   "metadata": {},
   "source": [
    "# Challenge 5"
   ]
  },
  {
   "cell_type": "markdown",
   "id": "0e7781ca",
   "metadata": {},
   "source": [
    "Escribir una funcion que nos pregunte las caracteristicas de un elemento a comprar e imprima el elemento con sus caracteristicas"
   ]
  },
  {
   "cell_type": "code",
   "execution_count": 130,
   "id": "bf522e01",
   "metadata": {},
   "outputs": [
    {
     "name": "stdout",
     "output_type": "stream",
     "text": [
      "Debo llevar\n",
      "Notebook (o laptop para los mas chetos)\n",
      "Mouse\n",
      "Tambien se puede comprar Vaso termico\n",
      "\n",
      "Debo llevar\n",
      "Notebook (o laptop para los mas chetos)\n",
      "Mouse\n",
      "Tambien se puede comprar Abrigo pq aire congela\n"
     ]
    }
   ],
   "source": [
    "def curso_de_codepro(materiales_opcionales): #se puede agregar mas parametros si uno desea, separandolos con coma es posible\n",
    "    print(\"Debo llevar\")\n",
    "    print(\"Notebook (o laptop para los mas chetos)\")\n",
    "    print(\"Mouse\")\n",
    "    print(f\"Tambien se puede comprar {materiales_opcionales}\")\n",
    "\n",
    "curso_de_codepro(\"Vaso termico\")\n",
    "print(\"\")\n",
    "curso_de_codepro(\"Abrigo pq aire congela\")"
   ]
  },
  {
   "cell_type": "markdown",
   "id": "9b3b5d0b",
   "metadata": {},
   "source": [
    "# Siguiente explicacion"
   ]
  },
  {
   "cell_type": "markdown",
   "id": "da3120c4",
   "metadata": {},
   "source": [
    "* Funciones personalizadas y funciones predefinidas\n",
    "* Alcance global y alcance local\n",
    "* Local: solo disponible dentro de un bloque de codigo\n",
    "\n",
    "Cuando usamos variables en python, tenemos que entender donde viven esas variables, es decir, su alcance o scope.\n",
    "\n",
    "Hay dos tipos principales:\n",
    "\n",
    "* Alcance local: la variable vive dentro de una funcion y solo se puede usar ahi\n",
    "* Alcance global: la variable vive fuera de todas las funciones y se puede usar en todo el programa."
   ]
  },
  {
   "cell_type": "code",
   "execution_count": null,
   "id": "ff23c8e8",
   "metadata": {},
   "outputs": [
    {
     "name": "stdout",
     "output_type": "stream",
     "text": [
      "Estoy cocinando Carne\n",
      "Estoy cocinando Carne\n"
     ]
    }
   ],
   "source": [
    "def preparar_comida():\n",
    "    ingrediente = \"Carne\"\n",
    "    print(f\"Estoy cocinando {ingrediente}\")\n",
    "\n",
    "preparar_comida()\n",
    "\n",
    "ingrediente = \"Pollo\"  #no pertenece a la funcion, por ende es ignorado en la linea 9\n",
    "\n",
    "preparar_comida()"
   ]
  },
  {
   "cell_type": "code",
   "execution_count": null,
   "id": "f54a680d",
   "metadata": {},
   "outputs": [
    {
     "name": "stdout",
     "output_type": "stream",
     "text": [
      "Estoy cocinando Pollo\n"
     ]
    }
   ],
   "source": [
    "def preparar_comida():\n",
    "    ingrediente = \"Carne\"\n",
    "    print(f\"Estoy cocinando {ingrediente}\")\n",
    "\n",
    "\n",
    "\n",
    "def preparar_comida():\n",
    "    ingrediente = \"Pollo\"\n",
    "    print(f\"Estoy cocinando {ingrediente}\")\n",
    "\n",
    "preparar_comida()   #aqui solo imprime pollo porque se esta pidiendo que imprima la funcion con el ultimo parametro asignado"
   ]
  },
  {
   "cell_type": "code",
   "execution_count": 138,
   "id": "52d48dda",
   "metadata": {},
   "outputs": [
    {
     "name": "stdout",
     "output_type": "stream",
     "text": [
      "Estoy cocinando Carne\n",
      "Estoy cocinando Pollo\n"
     ]
    }
   ],
   "source": [
    "def preparar_comida():\n",
    "    ingrediente = \"Carne\"\n",
    "    print(f\"Estoy cocinando {ingrediente}\")\n",
    "\n",
    "preparar_comida()\n",
    "\n",
    "def preparar_comida():\n",
    "    ingrediente = \"Pollo\"\n",
    "    print(f\"Estoy cocinando {ingrediente}\")\n",
    "\n",
    "preparar_comida()  "
   ]
  }
 ],
 "metadata": {
  "kernelspec": {
   "display_name": "Python 3",
   "language": "python",
   "name": "python3"
  },
  "language_info": {
   "codemirror_mode": {
    "name": "ipython",
    "version": 3
   },
   "file_extension": ".py",
   "mimetype": "text/x-python",
   "name": "python",
   "nbconvert_exporter": "python",
   "pygments_lexer": "ipython3",
   "version": "3.13.3"
  }
 },
 "nbformat": 4,
 "nbformat_minor": 5
}
