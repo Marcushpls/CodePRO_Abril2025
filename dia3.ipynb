{
 "cells": [
  {
   "cell_type": "markdown",
   "id": "a6a55b1d",
   "metadata": {},
   "source": [
    "# Repaso"
   ]
  },
  {
   "cell_type": "code",
   "execution_count": 1,
   "id": "c6c06cd5",
   "metadata": {},
   "outputs": [
    {
     "name": "stdout",
     "output_type": "stream",
     "text": [
      "Hola Mundo\n"
     ]
    }
   ],
   "source": [
    "def imprimir_saludo():\n",
    "    print(\"Hola Mundo\")\n",
    "\n",
    "imprimir_saludo()"
   ]
  },
  {
   "cell_type": "markdown",
   "id": "ddc36813",
   "metadata": {},
   "source": [
    "# Challenge 1 🤺 - 10m\n",
    "Crear una función que imprima la variable palabra"
   ]
  },
  {
   "cell_type": "code",
   "execution_count": null,
   "id": "d0e89e84",
   "metadata": {},
   "outputs": [
    {
     "name": "stdout",
     "output_type": "stream",
     "text": [
      "Opcion 1: se puede asignar el dato a la variable antes de la funcion\n",
      "Hola, que tal\n",
      "Opcion 2: se puede asignar el dato a la variable dentro de la funcion\n",
      "Hola, como te va\n"
     ]
    }
   ],
   "source": [
    "print(\"Opcion 1: se puede asignar el dato a la variable antes de la funcion\")\n",
    "\n",
    "palabra = \"Hola, que tal\"\n",
    "def imprimir_saludo():\n",
    "    print(palabra)\n",
    "imprimir_saludo()\n",
    "\n",
    "print(\"Opcion 2: se puede asignar el dato a la variable dentro de la funcion\")\n",
    "\n",
    "def imprimir_saludo():\n",
    "    palabra = \"Hola, como te va\"\n",
    "    print(palabra)\n",
    "imprimir_saludo()"
   ]
  },
  {
   "cell_type": "code",
   "execution_count": 11,
   "id": "636e87e5",
   "metadata": {},
   "outputs": [
    {
     "name": "stdout",
     "output_type": "stream",
     "text": [
      "Hola, como te va\n"
     ]
    }
   ],
   "source": [
    "palabra = \"Hola, que tal\"\n",
    "def imprimir_saludo():\n",
    "    palabra = \"Hola, como te va\"\n",
    "    print(palabra)\n",
    "imprimir_saludo()"
   ]
  },
  {
   "cell_type": "markdown",
   "id": "1993705e",
   "metadata": {},
   "source": [
    "# Ejemplo siguiente"
   ]
  },
  {
   "cell_type": "code",
   "execution_count": 14,
   "id": "92bbe0e8",
   "metadata": {},
   "outputs": [
    {
     "name": "stdout",
     "output_type": "stream",
     "text": [
      "17\n"
     ]
    }
   ],
   "source": [
    "def sumar_numeros(numero1,numero2):\n",
    "    suma = numero1 + numero2\n",
    "    print(suma)\n",
    "sumar_numeros(15,2)"
   ]
  },
  {
   "cell_type": "markdown",
   "id": "7deae6fd",
   "metadata": {},
   "source": [
    "# Challenge 2 🤺 - 15 min\n",
    "Crear una función que reciba dos letras (parámetros) y que verifique si son iguales:\n",
    "\n",
    "Si son iguales, imprimir \"Las letras son iguales\".\n",
    "\n",
    "De lo contrario, imprimir \"Las letras son diferentes\"."
   ]
  },
  {
   "cell_type": "code",
   "execution_count": null,
   "id": "60f45588",
   "metadata": {},
   "outputs": [
    {
     "name": "stdout",
     "output_type": "stream",
     "text": [
      "Las letras son diferentes\n"
     ]
    }
   ],
   "source": [
    "# Paso1 - Crear funcion\n",
    "# Paso2 - La funcion debe recibir 2 letras (Parametros)\n",
    "# Paso3 - Comparar igualdad\n",
    "# Paso4 - Si son iguales, imprimir \"Las letras son iguales\"\n",
    "# Paso5 - Sino, imprimir \"Las letras son diferentes\"\n",
    "\n",
    "def letras(letra1,letra2):                  # Paso1 y Paso2\n",
    "    if letra1 == letra2:                    # Paso3\n",
    "        print(\"Las letras son iguales\")     # Paso4\n",
    "    else:                                   # Paso5\n",
    "        print(\"Las letras son diferentes\")\n",
    "letras(\"a\",\"b\")"
   ]
  },
  {
   "cell_type": "markdown",
   "id": "97ce2b20",
   "metadata": {},
   "source": [
    "# Ejemplo siguiente"
   ]
  },
  {
   "cell_type": "markdown",
   "id": "0c852f47",
   "metadata": {},
   "source": [
    "def sumatoria(numero1, numero2):\n",
    "    sumar = numero1 + numero2\n",
    "    print(sumar)\n",
    "\n",
    "sumatoria(1,2)"
   ]
  },
  {
   "cell_type": "markdown",
   "id": "fe6d296c",
   "metadata": {},
   "source": [
    "suma1 = sumatoria(1,2)\n",
    "total = suma1 + 1\n",
    "print(total)"
   ]
  },
  {
   "cell_type": "code",
   "execution_count": 22,
   "id": "9daa4e88",
   "metadata": {},
   "outputs": [
    {
     "name": "stdout",
     "output_type": "stream",
     "text": [
      "4\n"
     ]
    }
   ],
   "source": [
    "def sumatoria(numero1, numero2):\n",
    "    sumar = numero1 + numero2\n",
    "    return sumar\n",
    "\n",
    "sumatoria(1,2)\n",
    "\n",
    "suma1 = sumatoria(1,2)\n",
    "total = suma1 + 1\n",
    "print(total)"
   ]
  },
  {
   "cell_type": "markdown",
   "id": "ab4bd8b4",
   "metadata": {},
   "source": [
    "# Challenge 3 🤺 - 20 min\n",
    "Crear una funcion que reciba dos parametros (una palabra y un numero), y que retorne True si el numero es igual a la cantidad de letras de la palabra. En caso contrario, que retorne False.\n",
    "\n",
    "Pista: cantidad de letras de una palabra en python (len)"
   ]
  },
  {
   "cell_type": "code",
   "execution_count": 41,
   "id": "9aefba7a",
   "metadata": {},
   "outputs": [
    {
     "data": {
      "text/plain": [
       "True"
      ]
     },
     "execution_count": 41,
     "metadata": {},
     "output_type": "execute_result"
    }
   ],
   "source": [
    "#Paso1 - Crear funcion\n",
    "#Paso2 - Debe recibir dos parametros\n",
    "#Paso3 - Comparar la cantidad de letras con el numero\n",
    "#Paso4 - Si es igual, dar True\n",
    "#Paso5 - Sino, dar Falso\n",
    "\n",
    "def comparacion(palabra1,numero1):\n",
    "\n",
    "    if len(palabra) == numero:\n",
    "        return True\n",
    "    else:\n",
    "        return False\n",
    "\n",
    "palabra = input()\n",
    "numero = int(input())\n",
    "\n",
    "comparacion(palabra,numero)"
   ]
  },
  {
   "cell_type": "markdown",
   "id": "31fc4319",
   "metadata": {},
   "source": [
    "# Ejemplo siguiente"
   ]
  },
  {
   "cell_type": "markdown",
   "id": "263d5c47",
   "metadata": {},
   "source": [
    "Listar cadena de caracteres - list( )\n",
    "\n",
    "\n"
   ]
  },
  {
   "cell_type": "markdown",
   "id": "1c1912ce",
   "metadata": {},
   "source": [
    "list() - convierte una cadena de caracteres en elementos de una lista"
   ]
  },
  {
   "cell_type": "markdown",
   "id": "1640f20b",
   "metadata": {},
   "source": [
    "# Challenge 5 🤺 - 25m\n",
    "Pedir al usuario que ingrese 1 palabra, luego convertir esa palabra a una lista con sus caracteres con list(). Agregar esa lista de caracteres a una lista llamada palabras_ingresadas. Repetir el proceso 3 veces. Cada vez que se agregue una lista de caracteres, imprimir la lista palabras_ingresadas.\n",
    "\n",
    "\n",
    "Ejemplo del resultado esperado:\n",
    "\n",
    "[['c', 'i', 'e', 'l', 'o']]\n",
    " #Al ingresar la primera palabra\n",
    "\n",
    "[['c', 'i', 'e', 'l', 'o'], ['c', 'a', 'l', 'o', 'r']]\n",
    " #Al ingresar la segunda palabra\n",
    "\n",
    "[['c', 'i', 'e', 'l', 'o'], ['c', 'a', 'l', 'o', 'r'], ['n', 'u', 'b', 'e', 's']]\n",
    " #Al ingresar la tercera palabra"
   ]
  },
  {
   "cell_type": "code",
   "execution_count": null,
   "id": "05f9022e",
   "metadata": {},
   "outputs": [
    {
     "name": "stdout",
     "output_type": "stream",
     "text": [
      "['q', 'w', 'e']\n",
      "['q', 'w', 'e', 'q', 'w', 'e']\n",
      "['q', 'w', 'e', 'q', 'w', 'e', 'q', 'w', 'e']\n"
     ]
    }
   ],
   "source": [
    "#Paso1 - Ingresar 1 palabra\n",
    "#Paso2 - Convertir la palabra a una lista con sus caracteres con list()\n",
    "#Paso3 - Agregar la primera lista a una lista2 y que esta se llame palabras_ingresadas\n",
    "\n",
    "#palabra1 = input(\"Ingrese su palabra:\")\n",
    "#palabra2 = input(\"Ingrese la siguiente palabra:\")\n",
    "#palabra3 = input(\"Ingrese la ultima palabra:\")\n",
    "\n",
    "#lista1 = len(palabra1)\n",
    "#lista2 = len(palabra2)\n",
    "#lista3 = len(palabra3)\n",
    "\n",
    "for i in range(3):\n",
    "    palabra = input(\"Ingrese su palabra:\")\n",
    "    palabras_ingresadas = list(palabra)\n",
    "    print(palabras_ingresadas)\n",
    "    palabras_ingresadas = list(palabra) + list(palabra)\n",
    "    print(palabras_ingresadas)\n",
    "    palabras_ingresadas = list(palabra) + list(palabra) + list(palabra)\n",
    "    print(palabras_ingresadas)"
   ]
  },
  {
   "cell_type": "code",
   "execution_count": null,
   "id": "86708052",
   "metadata": {},
   "outputs": [
    {
     "name": "stdout",
     "output_type": "stream",
     "text": [
      "['a', 's', 'd']\n",
      "['a', 's', 'd', [...]]\n",
      "['a', 's', 'd', [...], [...]]\n"
     ]
    }
   ],
   "source": [
    "# una pista podria ser colocar como variable palabras ingresadas = []\n",
    "# Mio\n",
    "palabra = input(\"Ingrese su palabra:\")\n",
    "palabras_ingresadas = list(palabra)\n",
    "print(palabras_ingresadas)\n",
    "palabras_ingresadas.append(palabras_ingresadas)\n",
    "print(palabras_ingresadas)\n",
    "palabras_ingresadas.append(palabras_ingresadas)\n",
    "print(palabras_ingresadas)"
   ]
  },
  {
   "cell_type": "code",
   "execution_count": 76,
   "id": "d4f1bd9e",
   "metadata": {},
   "outputs": [
    {
     "name": "stdout",
     "output_type": "stream",
     "text": [
      "[['q', 'w', 'e']]\n",
      "[['q', 'w', 'e'], ['a', 's', 'd']]\n",
      "[['q', 'w', 'e'], ['a', 's', 'd'], ['z', 'x', 'c']]\n"
     ]
    }
   ],
   "source": [
    "palabras_ingresadas = []\n",
    "\n",
    "for i in range(3):\n",
    "    palabra = input(\"Ingresa una palabra:\")\n",
    "    segunda_palabra = list(palabra)\n",
    "    palabras_ingresadas.append(segunda_palabra)\n",
    "    print(palabras_ingresadas)"
   ]
  },
  {
   "cell_type": "code",
   "execution_count": 78,
   "id": "0ea6ef54",
   "metadata": {},
   "outputs": [
    {
     "name": "stdout",
     "output_type": "stream",
     "text": [
      "[['a', 's', 'd']]\n",
      "[['a', 's', 'd'], ['q', 'w', 'e']]\n",
      "[['a', 's', 'd'], ['q', 'w', 'e'], ['z', 'x', 'c']]\n"
     ]
    }
   ],
   "source": [
    "palabras_ingresadas = []\n",
    "\n",
    "def Conteo():\n",
    "\n",
    "    Palabra_ingresada_usuario = input(\"Pon una palabra\")\n",
    "    palabra_descompuesta = list(Palabra_ingresada_usuario)\n",
    "    palabras_ingresadas.append(palabra_descompuesta)\n",
    "    print(palabras_ingresadas)\n",
    "\n",
    "Conteo()\n",
    "Conteo()\n",
    "Conteo()"
   ]
  },
  {
   "cell_type": "code",
   "execution_count": null,
   "id": "6b040ce9",
   "metadata": {},
   "outputs": [
    {
     "name": "stdout",
     "output_type": "stream",
     "text": [
      "['s', 'a', 'd']\n",
      "['s', 'a', 'd', 'asd']\n",
      "['s', 'a', 'd', 'asd', 'asd']\n"
     ]
    }
   ],
   "source": [
    "#Mio\n",
    "palabra = input(\"Ingrese su palabra:\")\n",
    "palabras_ingresadas = list(palabra)\n",
    "print(palabras_ingresadas)\n",
    "palabra2 = input(\"Siguiente palabra\")\n",
    "palabras_ingresadas.append(palabra2)\n",
    "\n",
    "print(palabras_ingresadas)\n",
    "palabra3 = input(\"Ultima palabra\")\n",
    "palabras_ingresadas.append(palabra3)\n",
    "\n",
    "print(palabras_ingresadas)"
   ]
  },
  {
   "cell_type": "markdown",
   "id": "93000c84",
   "metadata": {},
   "source": [
    "# Ejemplo siguiente"
   ]
  },
  {
   "cell_type": "code",
   "execution_count": null,
   "id": "9bfd431d",
   "metadata": {},
   "outputs": [],
   "source": []
  },
  {
   "cell_type": "markdown",
   "id": "cd8509f4",
   "metadata": {},
   "source": [
    "# Challenge 6 🤺 - 25m\n",
    "Dada la lista de ejemplo: \n",
    "\n",
    "lista = [['h', 'o', 'l', 'i', 's'], ['h', 'e', 'l', 'l', 'o'], ['h', 'a', 'l', 'l', 'o']]\n",
    "\n",
    "Crear una función que imprima una grilla (lista de listas), una línea por cada lista dentro de la lista principal.\n",
    "\n",
    "Ejemplo del resultado esperado:\n",
    "\n",
    "['h', 'o', 'l', 'i', 's']\n",
    "\n",
    "['h', 'e', 'l', 'l', 'o']\n",
    "\n",
    "['h', 'a', 'l', 'l', 'o']"
   ]
  },
  {
   "cell_type": "code",
   "execution_count": null,
   "id": "98c147c5",
   "metadata": {},
   "outputs": [
    {
     "name": "stdout",
     "output_type": "stream",
     "text": [
      "['h', 'o', 'l', 'i', 's']\n",
      "['h', 'e', 'l', 'l', 'o']\n",
      "['h', 'a', 'l', 'l', 'o']\n"
     ]
    }
   ],
   "source": [
    "#Metodo 1\n",
    "lista_entera = [['h', 'o', 'l', 'i', 's'], ['h', 'e', 'l', 'l', 'o'], ['h', 'a', 'l', 'l', 'o']]\n",
    "for lista in lista_entera:\n",
    "    print(lista)"
   ]
  },
  {
   "cell_type": "code",
   "execution_count": null,
   "id": "f4ed0649",
   "metadata": {},
   "outputs": [
    {
     "name": "stdout",
     "output_type": "stream",
     "text": [
      "['h', 'e', 'l', 'l', 'o']\n",
      "['h', 'a', 'l', 'l', 'o']\n"
     ]
    }
   ],
   "source": [
    "#Metodo 2\n",
    "lista_entera = [['h', 'o', 'l', 'i', 's'], ['h', 'e', 'l', 'l', 'o'], ['h', 'a', 'l', 'l', 'o']]\n",
    "for lista in lista_entera:\n",
    "    lista1 = lista_entera.pop(0)\n",
    "    lista2 = lista1.pop(1)\n",
    "    lista3 = \n",
    "    print(lista)"
   ]
  },
  {
   "cell_type": "code",
   "execution_count": 99,
   "id": "22b57d8f",
   "metadata": {},
   "outputs": [
    {
     "name": "stdout",
     "output_type": "stream",
     "text": [
      "['h', 'o', 'l', 'i', 's']\n",
      "['h', 'e', 'l', 'l', 'o']\n",
      "['h', 'a', 'l', 'l', 'o']\n"
     ]
    }
   ],
   "source": [
    "#Metodo 3\n",
    "lista = [['h', 'o', 'l', 'i', 's'], ['h', 'e', 'l', 'l', 'o'], ['h', 'a', 'l', 'l', 'o']]\n",
    "def imprimir_lista (lista):\n",
    "    print(lista[0])\n",
    "    print(lista[1])\n",
    "    print(lista[2])\n",
    "imprimir_lista(lista)"
   ]
  },
  {
   "cell_type": "code",
   "execution_count": 97,
   "id": "333e750a",
   "metadata": {},
   "outputs": [
    {
     "name": "stdout",
     "output_type": "stream",
     "text": [
      "['h', 'o', 'l', 'i', 's']\n",
      "['h', 'e', 'l', 'l', 'o']\n",
      "['h', 'a', 'l', 'l', 'o']\n"
     ]
    }
   ],
   "source": [
    "#Metodo 4\n",
    "lista_ejemplo = [['h', 'o', 'l', 'i', 's'], ['h', 'e', 'l', 'l', 'o'], ['h', 'a', 'l', 'l', 'o']]\n",
    "\n",
    "# crear funcion que imprima la lista de listas una linea por cada lista.\n",
    "def imprimir_con_salto(lista_a_imprimir):\n",
    "    for i in lista_a_imprimir:\n",
    "        lista = list(i)\n",
    "        print(lista)\n",
    "\n",
    "imprimir_con_salto(lista_ejemplo)"
   ]
  },
  {
   "cell_type": "markdown",
   "id": "f5ee32b6",
   "metadata": {},
   "source": [
    "# Ultimo Challenge"
   ]
  },
  {
   "cell_type": "code",
   "execution_count": null,
   "id": "7bb62031",
   "metadata": {},
   "outputs": [
    {
     "name": "stdout",
     "output_type": "stream",
     "text": [
      "te quedan 3 intentos\n",
      "te quedan 2 intentos\n",
      "te quedan 1 intentos\n",
      "te quedaste sin intentos\n"
     ]
    }
   ],
   "source": [
    "# Ejemplo\n",
    "\n",
    "intentos = 3\n",
    "while intentos > 0:\n",
    "    print(f\"te quedan {intentos} intentos\")\n",
    "    palabra = input(\"ingrese la palabra\")\n",
    "    intentos = intentos - 1\n",
    "print (\"te quedaste sin intentos\")"
   ]
  },
  {
   "cell_type": "markdown",
   "id": "b35d3e11",
   "metadata": {},
   "source": [
    "INICIAR juego\n",
    "\n",
    "DEFINIR palabra_a_encontrar\n",
    "\n",
    "DEFINIR cantidad_de_letras\n",
    "\n",
    "DEFINIR intentos\n",
    "\n",
    "CREAR grilla vacia (lista para mostrar el progreso del jugador)\n",
    "\n",
    "MOSTRAR mensaje de bienvenida"
   ]
  },
  {
   "cell_type": "code",
   "execution_count": null,
   "id": "a6ebd2a3",
   "metadata": {},
   "outputs": [
    {
     "name": "stdout",
     "output_type": "stream",
     "text": [
      "Bienvenido al juego, empezaras con 3 mucha suerte\n",
      "Tienes 3 intentos\n",
      "Tienes 2 intentos\n",
      "Tienes 1 intentos\n",
      "Te quedaste sin intentos\n"
     ]
    }
   ],
   "source": [
    "#Definir longitud aceptada → Pedir palabra → Calcular su longitud → Comparar → Mostrar resultado\n",
    "\n",
    "palabra_a_encontrar = \"asdasd\"\n",
    "cantidad_de_letras = 6      #Definir longitud aceptada\n",
    "intentos_validos = 3\n",
    "\n",
    "print(f\"Bienvenido al juego, empezaras con {intentos_validos} mucha suerte\")\n",
    "\n",
    "#def comparacion(palabra_a_encontrar,palabra_ingresada):\n",
    "#    while intentos_validos > 0:\n",
    "#        print(f\"Tienes {intentos_validos} intentos\")\n",
    "#        palabra = input(\"ingrese la palabra\")  #palabra\n",
    "\n",
    "def comparacion(palabra_ingresada):\n",
    "    palabra_ingresada = input(\"Ingrese palabra\")\n",
    "    if len(palabra_ingresada) == cantidad_de_letras:\n",
    "        return True\n",
    "    else:\n",
    "        return False\n",
    "comparacion(palabra_ingresada,intentos_validos)\n",
    "\n",
    "while intentos_validos > 0:\n",
    "    print(f\"Tienes {intentos_validos} intentos\")\n",
    "    intentos_validos = intentos_validos - 1\n",
    "print (\"Te quedaste sin intentos\")"
   ]
  },
  {
   "cell_type": "code",
   "execution_count": null,
   "id": "e1d65514",
   "metadata": {},
   "outputs": [],
   "source": [
    "def letras(letra1,letra2):                  \n",
    "    if letra1 == letra2:        \n",
    "        print(\"Las letras son iguales\")\n",
    "    else:                             \n",
    "        print(\"Las letras son diferentes\")\n",
    "letras(\"a\",\"b\")\n",
    "\n",
    "def comparacion(palabra_a_encontrar,palabra_ingresada):\n",
    "\n",
    "    if len(palabra) == numero:\n",
    "        return True\n",
    "    else:\n",
    "        return False\n",
    "\n",
    "palabra = input()\n",
    "numero = int(input())\n",
    "\n",
    "comparacion(palabra,numero)"
   ]
  },
  {
   "cell_type": "code",
   "execution_count": null,
   "id": "59dc349f",
   "metadata": {},
   "outputs": [],
   "source": []
  },
  {
   "cell_type": "code",
   "execution_count": null,
   "id": "cdb8d392",
   "metadata": {},
   "outputs": [
    {
     "name": "stdout",
     "output_type": "stream",
     "text": [
      "Empeza a jugar y divertite!!\n",
      "False\n"
     ]
    }
   ],
   "source": [
    "palabra_a_encontrar = \"letras\"\n",
    "cantidad_de_letras = 6\n",
    "cantidad_de_intentos= 5\n",
    "\n",
    "mensaje_bienvenida = \"Empeza a jugar y divertite!!\"\n",
    "print(mensaje_bienvenida)\n",
    "palabra_ingresada = input(\"Ingresar palabra\")\n",
    "\n",
    "#crear grilla vacia\n",
    "letras_verificadas = []\n",
    "\n",
    "#se recorre cada posicion de la palabra\n",
    "for posicion in range (cantidad_de_letras):\n",
    "#comparar las letras en la misma posicion\n",
    "    letras_iguales = palabra_a_encontrar[posicion] == palabra_ingresada[posicion]\n",
    "    \n",
    "#se recorre cada posicion de la palabra\n",
    "palabra_existente = palabra_ingresada[posicion] in palabra_a_encontrar\n",
    "\n",
    "if letras_iguales:\n",
    "    letras_verificadas.append(\"[\" + palabra_ingresada[posicion] + \"]\") and cantidad_de_letras == 6"
   ]
  },
  {
   "cell_type": "code",
   "execution_count": null,
   "id": "32b9f592",
   "metadata": {},
   "outputs": [
    {
     "name": "stdout",
     "output_type": "stream",
     "text": [
      "Empezá a jugar y divertite!!\n",
      "La palabra debe tener 6 letras\n"
     ]
    }
   ],
   "source": [
    "mensaje_bienvenida = \"Empezá a jugar y divertite!!\"\n",
    "print(mensaje_bienvenida)\n",
    "palabra_a_encontrar = \"letras\"\n",
    "cantidad_de_letras = 6\n",
    "cantidad_de_intentos = 5\n",
    "letras_verificadas = []\n",
    "palabra_ingresada = input(\"ingresar palabra\")\n",
    "\n",
    "def verificar_la_palabra(palabra_a_encontrar,palabra_ingresada):\n",
    "    if len(palabra_ingresada) != cantidad_de_letras:\n",
    "        print(\"La palabra debe tener\", cantidad_de_letras, \"letras\")\n",
    "    elif len(palabra_ingresada) == cantidad_de_letras:\n",
    "        while True:\n",
    "    numero_ingresado = int(input(\"Introduce un numero\"))\n",
    "    if numero_ingresado == numero:\n",
    "        print(\"El numero es correcto\")\n",
    "        break\n",
    "        for posicion in range(cantidad_de_letras):\n",
    "            letras_iguales = palabra_a_encontrar[posicion] == palabra_ingresada[posicion]\n",
    "            palabra_existente = palabra_ingresada[posicion] in palabra_a_encontrar\n",
    "\n",
    "            if letras_iguales:\n",
    "                letras_verificadas.append(\"[\" + palabra_ingresada[posicion] + \"]\")\n",
    "            elif palabra_existente:\n",
    "                letras_verificadas.append(\"(\" + palabra_ingresada[posicion] + \")\")\n",
    "            else:\n",
    "                letras_verificadas.append(palabra_ingresada[posicion])\n",
    "        print(\"Resultado:\",letras_verificadas)\n",
    "\n",
    "\n",
    "verificar_la_palabra(palabra_a_encontrar,palabra_ingresada)"
   ]
  },
  {
   "cell_type": "code",
   "execution_count": null,
   "id": "29110f3d",
   "metadata": {},
   "outputs": [],
   "source": []
  }
 ],
 "metadata": {
  "kernelspec": {
   "display_name": "Python 3",
   "language": "python",
   "name": "python3"
  },
  "language_info": {
   "codemirror_mode": {
    "name": "ipython",
    "version": 3
   },
   "file_extension": ".py",
   "mimetype": "text/x-python",
   "name": "python",
   "nbconvert_exporter": "python",
   "pygments_lexer": "ipython3",
   "version": "3.13.3"
  }
 },
 "nbformat": 4,
 "nbformat_minor": 5
}
